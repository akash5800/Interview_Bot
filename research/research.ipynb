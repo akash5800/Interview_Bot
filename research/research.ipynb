{
 "cells": [
  {
   "cell_type": "code",
   "execution_count": 2,
   "metadata": {},
   "outputs": [
    {
     "name": "stdout",
     "output_type": "stream",
     "text": [
      "Note: you may need to restart the kernel to use updated packages.\n"
     ]
    },
    {
     "name": "stderr",
     "output_type": "stream",
     "text": [
      "ERROR: Ignored the following versions that require a different python version: 0.0.1 Requires-Python >=3.9,<4.0; 0.0.10rc0 Requires-Python >=3.9,<4.0; 0.0.11 Requires-Python >=3.9,<4.0; 0.0.1rc0 Requires-Python >=3.9,<4.0; 0.0.2 Requires-Python >=3.9,<4.0; 0.0.3 Requires-Python >=3.9,<4.0; 0.0.4 Requires-Python >=3.9,<4.0; 0.0.5 Requires-Python >=3.9,<4.0; 0.0.6 Requires-Python >=3.9,<4.0; 0.0.7 Requires-Python >=3.9,<4.0; 0.0.8 Requires-Python >=3.9,<4.0; 0.0.9 Requires-Python >=3.9,<4.0; 1.0.1 Requires-Python <4.0,>=3.9; 1.0.2 Requires-Python <4.0,>=3.9; 1.0.3 Requires-Python <4.0,>=3.9; 1.0.4 Requires-Python <4.0,>=3.9; 1.0.5 Requires-Python <4.0,>=3.9; 1.0.6 Requires-Python <4.0,>=3.9; 1.0.7 Requires-Python <4.0,>=3.9\n",
      "ERROR: Could not find a version that satisfies the requirement langchain-google-genai (from versions: none)\n",
      "ERROR: No matching distribution found for langchain-google-genai\n"
     ]
    }
   ],
   "source": [
    "%pip install --upgrade --quiet  langchain-google-genai langchain langchain_core langchain-cohere langchain-groq"
   ]
  },
  {
   "cell_type": "code",
   "execution_count": 1,
   "metadata": {},
   "outputs": [
    {
     "ename": "ModuleNotFoundError",
     "evalue": "No module named 'langchain_google_genai'",
     "output_type": "error",
     "traceback": [
      "\u001b[1;31m---------------------------------------------------------------------------\u001b[0m",
      "\u001b[1;31mModuleNotFoundError\u001b[0m                       Traceback (most recent call last)",
      "Cell \u001b[1;32mIn[1], line 1\u001b[0m\n\u001b[1;32m----> 1\u001b[0m \u001b[38;5;28;01mfrom\u001b[39;00m \u001b[38;5;21;01mlangchain_google_genai\u001b[39;00m \u001b[38;5;28;01mimport\u001b[39;00m GoogleGenerativeAI\n\u001b[0;32m      2\u001b[0m \u001b[38;5;66;03m# from langc\u001b[39;00m\n",
      "\u001b[1;31mModuleNotFoundError\u001b[0m: No module named 'langchain_google_genai'"
     ]
    }
   ],
   "source": [
    "from langchain_google_genai import GoogleGenerativeAI\n",
    "# from langc"
   ]
  },
  {
   "cell_type": "code",
   "execution_count": null,
   "metadata": {},
   "outputs": [],
   "source": [
    "g_llm = GoogleGenerativeAI(model=\"models/text-bison-001\", google_api_key=G_API)\n",
    "llama_llm = "
   ]
  },
  {
   "cell_type": "code",
   "execution_count": null,
   "metadata": {},
   "outputs": [],
   "source": [
    "subject = 'Python'\n",
    "level = 'hard'\n",
    "prompt = f'''\n",
    "**Generate Multiple Choice Questions (MCQs)**\n",
    "\n",
    "**Subject:** {subject}\n",
    "\n",
    "**Difficulty Level:** {level}\n",
    "\n",
    "**Instructions:** Generate a multiple-choice question (MCQ) on the topic of {subject} at the specified difficulty level. The question should have four options, with one correct answer and three distractors. Ensure the question is clear, concise, and relevant to the subject. Return the MCQ in JSON format with the following structure:\n",
    "\n",
    "```\n",
    "[\n",
    "{{\n",
    "  \"question\": \"[Insert question text]\",\n",
    "  \"options\": [\n",
    "    {{\"text\": \"[Insert option A]\", \"isCorrect\": false}},\n",
    "    {{\"text\": \"[Insert option B]\", \"isCorrect\": false}},\n",
    "    {{\"text\": \"[Insert option C]\", \"isCorrect\": false}},\n",
    "    {{\"text\": \"[Insert option D]\", \"isCorrect\": true}}\n",
    "  ]\n",
    "}},\n",
    "{{\n",
    "  \"question\": \"[Insert question text]\",\n",
    "  \"options\": [\n",
    "    {{\"text\": \"[Insert option A]\", \"isCorrect\": false}},\n",
    "    {{\"text\": \"[Insert option B]\", \"isCorrect\": false}},\n",
    "    {{\"text\": \"[Insert option C]\", \"isCorrect\": false}},\n",
    "    {{\"text\": \"[Insert option D]\", \"isCorrect\": true}}\n",
    "  ]\n",
    "}}\n",
    "]\n",
    "```\n",
    "\n",
    "**Example Output:**\n",
    "\n",
    "If the input is:\n",
    "Subject: Physics\n",
    "Difficulty Level: Intermediate\n",
    "\n",
    "The output could be:\n",
    "```\n",
    "{{\n",
    "  \"question\": \"What is the unit of momentum in the International System of Units (SI)?\",\n",
    "  \"options\": [\n",
    "    {{\"text\": \"Newton-second\", \"isCorrect\": false}},\n",
    "    {{\"text\": \"Kilogram-meter per second\", \"isCorrect\": true}},\n",
    "    {{\"text\": \"Joule-second\", \"isCorrect\": false}},\n",
    "    {{\"text\": \"Watt-second\", \"isCorrect\": false}}\n",
    "  ]\n",
    "}}\n",
    "```\n",
    "\n",
    "Please generate a question based on the provided subject and difficulty level in JSON format.\n",
    "'''\n"
   ]
  }
 ],
 "metadata": {
  "kernelspec": {
   "display_name": "Python 3",
   "language": "python",
   "name": "python3"
  },
  "language_info": {
   "codemirror_mode": {
    "name": "ipython",
    "version": 3
   },
   "file_extension": ".py",
   "mimetype": "text/x-python",
   "name": "python",
   "nbconvert_exporter": "python",
   "pygments_lexer": "ipython3",
   "version": "3.8.19"
  }
 },
 "nbformat": 4,
 "nbformat_minor": 2
}
